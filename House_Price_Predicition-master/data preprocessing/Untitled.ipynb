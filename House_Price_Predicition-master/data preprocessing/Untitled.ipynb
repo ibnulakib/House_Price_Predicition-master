{
 "cells": [
  {
   "cell_type": "code",
   "execution_count": 120,
   "id": "8c6524cd",
   "metadata": {},
   "outputs": [],
   "source": [
    "import pandas as pd\n",
    "import numpy as np"
   ]
  },
  {
   "cell_type": "code",
   "execution_count": 121,
   "id": "90329bf2",
   "metadata": {},
   "outputs": [],
   "source": [
    "df = pd.read_csv(r\"C:\\Users\\ibnul\\hp3.csv\",encoding='latin1')"
   ]
  },
  {
   "cell_type": "code",
   "execution_count": 122,
   "id": "29ae1aef",
   "metadata": {},
   "outputs": [
    {
     "data": {
      "text/html": [
       "<div>\n",
       "<style scoped>\n",
       "    .dataframe tbody tr th:only-of-type {\n",
       "        vertical-align: middle;\n",
       "    }\n",
       "\n",
       "    .dataframe tbody tr th {\n",
       "        vertical-align: top;\n",
       "    }\n",
       "\n",
       "    .dataframe thead th {\n",
       "        text-align: right;\n",
       "    }\n",
       "</style>\n",
       "<table border=\"1\" class=\"dataframe\">\n",
       "  <thead>\n",
       "    <tr style=\"text-align: right;\">\n",
       "      <th></th>\n",
       "      <th>Property Type</th>\n",
       "      <th>Bed</th>\n",
       "      <th>Bath</th>\n",
       "      <th>Area</th>\n",
       "      <th>Location</th>\n",
       "      <th>Price</th>\n",
       "    </tr>\n",
       "  </thead>\n",
       "  <tbody>\n",
       "    <tr>\n",
       "      <th>0</th>\n",
       "      <td>Apartment</td>\n",
       "      <td>1</td>\n",
       "      <td>1</td>\n",
       "      <td>500</td>\n",
       "      <td>Mohammadpur</td>\n",
       "      <td>1,700,000</td>\n",
       "    </tr>\n",
       "    <tr>\n",
       "      <th>1</th>\n",
       "      <td>Apartment</td>\n",
       "      <td>2</td>\n",
       "      <td>2</td>\n",
       "      <td>675</td>\n",
       "      <td>Mohammadpur</td>\n",
       "      <td>2,500,000</td>\n",
       "    </tr>\n",
       "    <tr>\n",
       "      <th>2</th>\n",
       "      <td>Apartment</td>\n",
       "      <td>2</td>\n",
       "      <td>2</td>\n",
       "      <td>600</td>\n",
       "      <td>Mohammadpur</td>\n",
       "      <td>2,600,000</td>\n",
       "    </tr>\n",
       "    <tr>\n",
       "      <th>3</th>\n",
       "      <td>Apartment</td>\n",
       "      <td>2</td>\n",
       "      <td>2</td>\n",
       "      <td>600</td>\n",
       "      <td>Mohammadpur</td>\n",
       "      <td>2,600,000</td>\n",
       "    </tr>\n",
       "    <tr>\n",
       "      <th>4</th>\n",
       "      <td>Apartment</td>\n",
       "      <td>3</td>\n",
       "      <td>2</td>\n",
       "      <td>800</td>\n",
       "      <td>Mohammadpur</td>\n",
       "      <td>2,700,000</td>\n",
       "    </tr>\n",
       "  </tbody>\n",
       "</table>\n",
       "</div>"
      ],
      "text/plain": [
       "  Property Type  Bed  Bath Area     Location      Price\n",
       "0     Apartment    1     1  500  Mohammadpur  1,700,000\n",
       "1     Apartment    2     2  675  Mohammadpur  2,500,000\n",
       "2     Apartment    2     2  600  Mohammadpur  2,600,000\n",
       "3     Apartment    2     2  600  Mohammadpur  2,600,000\n",
       "4     Apartment    3     2  800  Mohammadpur  2,700,000"
      ]
     },
     "execution_count": 122,
     "metadata": {},
     "output_type": "execute_result"
    }
   ],
   "source": [
    "df.head()"
   ]
  },
  {
   "cell_type": "code",
   "execution_count": 123,
   "id": "9dc2ff6e",
   "metadata": {},
   "outputs": [
    {
     "data": {
      "text/plain": [
       "(5038, 6)"
      ]
     },
     "execution_count": 123,
     "metadata": {},
     "output_type": "execute_result"
    }
   ],
   "source": [
    "df.shape"
   ]
  },
  {
   "cell_type": "code",
   "execution_count": 124,
   "id": "a2ab3e9d",
   "metadata": {},
   "outputs": [
    {
     "name": "stdout",
     "output_type": "stream",
     "text": [
      "<class 'pandas.core.frame.DataFrame'>\n",
      "RangeIndex: 5038 entries, 0 to 5037\n",
      "Data columns (total 6 columns):\n",
      " #   Column         Non-Null Count  Dtype \n",
      "---  ------         --------------  ----- \n",
      " 0   Property Type  5038 non-null   object\n",
      " 1   Bed            5038 non-null   int64 \n",
      " 2   Bath           5038 non-null   int64 \n",
      " 3   Area           5038 non-null   object\n",
      " 4   Location       5038 non-null   object\n",
      " 5   Price          5038 non-null   object\n",
      "dtypes: int64(2), object(4)\n",
      "memory usage: 236.3+ KB\n"
     ]
    }
   ],
   "source": [
    "df.info()"
   ]
  },
  {
   "cell_type": "code",
   "execution_count": 125,
   "id": "cace75fc",
   "metadata": {},
   "outputs": [],
   "source": [
    "df['Price'] = (df['Price'].str.split()).apply(lambda x: float(x[0].replace(',', '')))\n",
    "df['Area'] = (df['Area'].str.split()).apply(lambda x: int(x[0].replace(',', '')))"
   ]
  },
  {
   "cell_type": "code",
   "execution_count": 126,
   "id": "254db071",
   "metadata": {},
   "outputs": [
    {
     "name": "stdout",
     "output_type": "stream",
     "text": [
      "<class 'pandas.core.frame.DataFrame'>\n",
      "RangeIndex: 5038 entries, 0 to 5037\n",
      "Data columns (total 6 columns):\n",
      " #   Column         Non-Null Count  Dtype  \n",
      "---  ------         --------------  -----  \n",
      " 0   Property Type  5038 non-null   object \n",
      " 1   Bed            5038 non-null   int64  \n",
      " 2   Bath           5038 non-null   int64  \n",
      " 3   Area           5038 non-null   int64  \n",
      " 4   Location       5038 non-null   object \n",
      " 5   Price          5038 non-null   float64\n",
      "dtypes: float64(1), int64(3), object(2)\n",
      "memory usage: 236.3+ KB\n"
     ]
    }
   ],
   "source": [
    "df.info()"
   ]
  },
  {
   "cell_type": "code",
   "execution_count": 127,
   "id": "d14eab91",
   "metadata": {},
   "outputs": [],
   "source": [
    "df = df.drop(['Property Type'],axis='columns')"
   ]
  },
  {
   "cell_type": "code",
   "execution_count": 128,
   "id": "dbb9c993",
   "metadata": {},
   "outputs": [
    {
     "name": "stdout",
     "output_type": "stream",
     "text": [
      "Categorical variables:\n",
      "['Location']\n"
     ]
    }
   ],
   "source": [
    "# Get list of categorical variables\n",
    "s = (df.dtypes == 'object')\n",
    "object_cols = list(s[s].index)\n",
    "print(\"Categorical variables:\")\n",
    "print(object_cols)"
   ]
  },
  {
   "cell_type": "code",
   "execution_count": null,
   "id": "bfb31a8f",
   "metadata": {},
   "outputs": [],
   "source": []
  },
  {
   "cell_type": "code",
   "execution_count": 129,
   "id": "0b6dcf26",
   "metadata": {},
   "outputs": [],
   "source": [
    "dummies = pd.get_dummies(df.Location)"
   ]
  },
  {
   "cell_type": "code",
   "execution_count": 130,
   "id": "56dbe496",
   "metadata": {},
   "outputs": [],
   "source": [
    "df = pd.concat([df,dummies],axis='columns')\n"
   ]
  },
  {
   "cell_type": "code",
   "execution_count": 131,
   "id": "8084bf1d",
   "metadata": {},
   "outputs": [
    {
     "data": {
      "text/html": [
       "<div>\n",
       "<style scoped>\n",
       "    .dataframe tbody tr th:only-of-type {\n",
       "        vertical-align: middle;\n",
       "    }\n",
       "\n",
       "    .dataframe tbody tr th {\n",
       "        vertical-align: top;\n",
       "    }\n",
       "\n",
       "    .dataframe thead th {\n",
       "        text-align: right;\n",
       "    }\n",
       "</style>\n",
       "<table border=\"1\" class=\"dataframe\">\n",
       "  <thead>\n",
       "    <tr style=\"text-align: right;\">\n",
       "      <th></th>\n",
       "      <th>Bed</th>\n",
       "      <th>Bath</th>\n",
       "      <th>Area</th>\n",
       "      <th>Location</th>\n",
       "      <th>Price</th>\n",
       "      <th>Badda</th>\n",
       "      <th>Banani</th>\n",
       "      <th>Bashabo</th>\n",
       "      <th>Bashundhara</th>\n",
       "      <th>Dhanmondi</th>\n",
       "      <th>Mirpur</th>\n",
       "      <th>Mohammadpur</th>\n",
       "      <th>Savar</th>\n",
       "      <th>Uttara</th>\n",
       "    </tr>\n",
       "  </thead>\n",
       "  <tbody>\n",
       "    <tr>\n",
       "      <th>2025</th>\n",
       "      <td>3</td>\n",
       "      <td>3</td>\n",
       "      <td>1450</td>\n",
       "      <td>Mirpur</td>\n",
       "      <td>8700000.0</td>\n",
       "      <td>0</td>\n",
       "      <td>0</td>\n",
       "      <td>0</td>\n",
       "      <td>0</td>\n",
       "      <td>0</td>\n",
       "      <td>1</td>\n",
       "      <td>0</td>\n",
       "      <td>0</td>\n",
       "      <td>0</td>\n",
       "    </tr>\n",
       "    <tr>\n",
       "      <th>2026</th>\n",
       "      <td>3</td>\n",
       "      <td>3</td>\n",
       "      <td>1450</td>\n",
       "      <td>Mirpur</td>\n",
       "      <td>8700000.0</td>\n",
       "      <td>0</td>\n",
       "      <td>0</td>\n",
       "      <td>0</td>\n",
       "      <td>0</td>\n",
       "      <td>0</td>\n",
       "      <td>1</td>\n",
       "      <td>0</td>\n",
       "      <td>0</td>\n",
       "      <td>0</td>\n",
       "    </tr>\n",
       "    <tr>\n",
       "      <th>2027</th>\n",
       "      <td>3</td>\n",
       "      <td>3</td>\n",
       "      <td>1450</td>\n",
       "      <td>Mirpur</td>\n",
       "      <td>8700000.0</td>\n",
       "      <td>0</td>\n",
       "      <td>0</td>\n",
       "      <td>0</td>\n",
       "      <td>0</td>\n",
       "      <td>0</td>\n",
       "      <td>1</td>\n",
       "      <td>0</td>\n",
       "      <td>0</td>\n",
       "      <td>0</td>\n",
       "    </tr>\n",
       "    <tr>\n",
       "      <th>2028</th>\n",
       "      <td>3</td>\n",
       "      <td>2</td>\n",
       "      <td>1250</td>\n",
       "      <td>Mirpur</td>\n",
       "      <td>8750000.0</td>\n",
       "      <td>0</td>\n",
       "      <td>0</td>\n",
       "      <td>0</td>\n",
       "      <td>0</td>\n",
       "      <td>0</td>\n",
       "      <td>1</td>\n",
       "      <td>0</td>\n",
       "      <td>0</td>\n",
       "      <td>0</td>\n",
       "    </tr>\n",
       "    <tr>\n",
       "      <th>2029</th>\n",
       "      <td>3</td>\n",
       "      <td>2</td>\n",
       "      <td>1250</td>\n",
       "      <td>Mirpur</td>\n",
       "      <td>8750000.0</td>\n",
       "      <td>0</td>\n",
       "      <td>0</td>\n",
       "      <td>0</td>\n",
       "      <td>0</td>\n",
       "      <td>0</td>\n",
       "      <td>1</td>\n",
       "      <td>0</td>\n",
       "      <td>0</td>\n",
       "      <td>0</td>\n",
       "    </tr>\n",
       "  </tbody>\n",
       "</table>\n",
       "</div>"
      ],
      "text/plain": [
       "      Bed  Bath  Area Location      Price  Badda  Banani  Bashabo  \\\n",
       "2025    3     3  1450   Mirpur  8700000.0      0       0        0   \n",
       "2026    3     3  1450   Mirpur  8700000.0      0       0        0   \n",
       "2027    3     3  1450   Mirpur  8700000.0      0       0        0   \n",
       "2028    3     2  1250   Mirpur  8750000.0      0       0        0   \n",
       "2029    3     2  1250   Mirpur  8750000.0      0       0        0   \n",
       "\n",
       "      Bashundhara  Dhanmondi  Mirpur  Mohammadpur  Savar  Uttara  \n",
       "2025            0          0       1            0      0       0  \n",
       "2026            0          0       1            0      0       0  \n",
       "2027            0          0       1            0      0       0  \n",
       "2028            0          0       1            0      0       0  \n",
       "2029            0          0       1            0      0       0  "
      ]
     },
     "execution_count": 131,
     "metadata": {},
     "output_type": "execute_result"
    }
   ],
   "source": [
    "df[2025:2030]"
   ]
  },
  {
   "cell_type": "code",
   "execution_count": 132,
   "id": "f56c8ce0",
   "metadata": {},
   "outputs": [],
   "source": [
    "df = df.drop('Location',axis='columns')"
   ]
  },
  {
   "cell_type": "code",
   "execution_count": 133,
   "id": "c03291e9",
   "metadata": {},
   "outputs": [
    {
     "name": "stdout",
     "output_type": "stream",
     "text": [
      "<class 'pandas.core.frame.DataFrame'>\n",
      "RangeIndex: 5038 entries, 0 to 5037\n",
      "Data columns (total 13 columns):\n",
      " #   Column       Non-Null Count  Dtype  \n",
      "---  ------       --------------  -----  \n",
      " 0   Bed          5038 non-null   int64  \n",
      " 1   Bath         5038 non-null   int64  \n",
      " 2   Area         5038 non-null   int64  \n",
      " 3   Price        5038 non-null   float64\n",
      " 4   Badda        5038 non-null   uint8  \n",
      " 5   Banani       5038 non-null   uint8  \n",
      " 6   Bashabo      5038 non-null   uint8  \n",
      " 7   Bashundhara  5038 non-null   uint8  \n",
      " 8   Dhanmondi    5038 non-null   uint8  \n",
      " 9   Mirpur       5038 non-null   uint8  \n",
      " 10  Mohammadpur  5038 non-null   uint8  \n",
      " 11  Savar        5038 non-null   uint8  \n",
      " 12  Uttara       5038 non-null   uint8  \n",
      "dtypes: float64(1), int64(3), uint8(9)\n",
      "memory usage: 201.8 KB\n"
     ]
    }
   ],
   "source": [
    "df.info()"
   ]
  },
  {
   "cell_type": "code",
   "execution_count": 134,
   "id": "65095e4a",
   "metadata": {},
   "outputs": [],
   "source": [
    "X = df.drop(['Price'],axis='columns')"
   ]
  },
  {
   "cell_type": "code",
   "execution_count": 135,
   "id": "2abe3466",
   "metadata": {},
   "outputs": [
    {
     "data": {
      "text/html": [
       "<div>\n",
       "<style scoped>\n",
       "    .dataframe tbody tr th:only-of-type {\n",
       "        vertical-align: middle;\n",
       "    }\n",
       "\n",
       "    .dataframe tbody tr th {\n",
       "        vertical-align: top;\n",
       "    }\n",
       "\n",
       "    .dataframe thead th {\n",
       "        text-align: right;\n",
       "    }\n",
       "</style>\n",
       "<table border=\"1\" class=\"dataframe\">\n",
       "  <thead>\n",
       "    <tr style=\"text-align: right;\">\n",
       "      <th></th>\n",
       "      <th>Bed</th>\n",
       "      <th>Bath</th>\n",
       "      <th>Area</th>\n",
       "      <th>Badda</th>\n",
       "      <th>Banani</th>\n",
       "      <th>Bashabo</th>\n",
       "      <th>Bashundhara</th>\n",
       "      <th>Dhanmondi</th>\n",
       "      <th>Mirpur</th>\n",
       "      <th>Mohammadpur</th>\n",
       "      <th>Savar</th>\n",
       "      <th>Uttara</th>\n",
       "    </tr>\n",
       "  </thead>\n",
       "  <tbody>\n",
       "    <tr>\n",
       "      <th>0</th>\n",
       "      <td>1</td>\n",
       "      <td>1</td>\n",
       "      <td>500</td>\n",
       "      <td>0</td>\n",
       "      <td>0</td>\n",
       "      <td>0</td>\n",
       "      <td>0</td>\n",
       "      <td>0</td>\n",
       "      <td>0</td>\n",
       "      <td>1</td>\n",
       "      <td>0</td>\n",
       "      <td>0</td>\n",
       "    </tr>\n",
       "    <tr>\n",
       "      <th>1</th>\n",
       "      <td>2</td>\n",
       "      <td>2</td>\n",
       "      <td>675</td>\n",
       "      <td>0</td>\n",
       "      <td>0</td>\n",
       "      <td>0</td>\n",
       "      <td>0</td>\n",
       "      <td>0</td>\n",
       "      <td>0</td>\n",
       "      <td>1</td>\n",
       "      <td>0</td>\n",
       "      <td>0</td>\n",
       "    </tr>\n",
       "    <tr>\n",
       "      <th>2</th>\n",
       "      <td>2</td>\n",
       "      <td>2</td>\n",
       "      <td>600</td>\n",
       "      <td>0</td>\n",
       "      <td>0</td>\n",
       "      <td>0</td>\n",
       "      <td>0</td>\n",
       "      <td>0</td>\n",
       "      <td>0</td>\n",
       "      <td>1</td>\n",
       "      <td>0</td>\n",
       "      <td>0</td>\n",
       "    </tr>\n",
       "    <tr>\n",
       "      <th>3</th>\n",
       "      <td>2</td>\n",
       "      <td>2</td>\n",
       "      <td>600</td>\n",
       "      <td>0</td>\n",
       "      <td>0</td>\n",
       "      <td>0</td>\n",
       "      <td>0</td>\n",
       "      <td>0</td>\n",
       "      <td>0</td>\n",
       "      <td>1</td>\n",
       "      <td>0</td>\n",
       "      <td>0</td>\n",
       "    </tr>\n",
       "    <tr>\n",
       "      <th>4</th>\n",
       "      <td>3</td>\n",
       "      <td>2</td>\n",
       "      <td>800</td>\n",
       "      <td>0</td>\n",
       "      <td>0</td>\n",
       "      <td>0</td>\n",
       "      <td>0</td>\n",
       "      <td>0</td>\n",
       "      <td>0</td>\n",
       "      <td>1</td>\n",
       "      <td>0</td>\n",
       "      <td>0</td>\n",
       "    </tr>\n",
       "  </tbody>\n",
       "</table>\n",
       "</div>"
      ],
      "text/plain": [
       "   Bed  Bath  Area  Badda  Banani  Bashabo  Bashundhara  Dhanmondi  Mirpur  \\\n",
       "0    1     1   500      0       0        0            0          0       0   \n",
       "1    2     2   675      0       0        0            0          0       0   \n",
       "2    2     2   600      0       0        0            0          0       0   \n",
       "3    2     2   600      0       0        0            0          0       0   \n",
       "4    3     2   800      0       0        0            0          0       0   \n",
       "\n",
       "   Mohammadpur  Savar  Uttara  \n",
       "0            1      0       0  \n",
       "1            1      0       0  \n",
       "2            1      0       0  \n",
       "3            1      0       0  \n",
       "4            1      0       0  "
      ]
     },
     "execution_count": 135,
     "metadata": {},
     "output_type": "execute_result"
    }
   ],
   "source": [
    "X.head()"
   ]
  },
  {
   "cell_type": "code",
   "execution_count": 136,
   "id": "488adced",
   "metadata": {},
   "outputs": [],
   "source": [
    "y = df.Price"
   ]
  },
  {
   "cell_type": "code",
   "execution_count": 137,
   "id": "4dc554aa",
   "metadata": {},
   "outputs": [
    {
     "data": {
      "text/plain": [
       "0        1700000.0\n",
       "1        2500000.0\n",
       "2        2600000.0\n",
       "3        2600000.0\n",
       "4        2700000.0\n",
       "           ...    \n",
       "5033    10275000.0\n",
       "5034    11120000.0\n",
       "5035    11120000.0\n",
       "5036    18000000.0\n",
       "5037    18000000.0\n",
       "Name: Price, Length: 5038, dtype: float64"
      ]
     },
     "execution_count": 137,
     "metadata": {},
     "output_type": "execute_result"
    }
   ],
   "source": [
    "y"
   ]
  },
  {
   "cell_type": "code",
   "execution_count": 138,
   "id": "11db8b86",
   "metadata": {},
   "outputs": [],
   "source": [
    "from sklearn.linear_model import LinearRegression\n",
    "model = LinearRegression()"
   ]
  },
  {
   "cell_type": "code",
   "execution_count": 139,
   "id": "4ccad97d",
   "metadata": {},
   "outputs": [
    {
     "data": {
      "text/plain": [
       "0.620825950778148"
      ]
     },
     "execution_count": 139,
     "metadata": {},
     "output_type": "execute_result"
    }
   ],
   "source": [
    "model.fit(X,y)\n",
    "model.score(X,y)"
   ]
  },
  {
   "cell_type": "code",
   "execution_count": 140,
   "id": "f4f24177",
   "metadata": {},
   "outputs": [
    {
     "data": {
      "text/plain": [
       "array([8438588.81317198])"
      ]
     },
     "execution_count": 140,
     "metadata": {},
     "output_type": "execute_result"
    }
   ],
   "source": [
    "model.predict([[3,3,1450,0,0,0,0,0,0,1,0,0]])"
   ]
  },
  {
   "cell_type": "code",
   "execution_count": 141,
   "id": "59d1ce62",
   "metadata": {},
   "outputs": [],
   "source": [
    "x = np.zeros(len(X.columns))"
   ]
  },
  {
   "cell_type": "code",
   "execution_count": 142,
   "id": "5d50887b",
   "metadata": {},
   "outputs": [
    {
     "data": {
      "text/plain": [
       "Index(['Bed', 'Bath', 'Area', 'Badda', 'Banani', 'Bashabo', 'Bashundhara',\n",
       "       'Dhanmondi', 'Mirpur', 'Mohammadpur', 'Savar', 'Uttara'],\n",
       "      dtype='object')"
      ]
     },
     "execution_count": 142,
     "metadata": {},
     "output_type": "execute_result"
    }
   ],
   "source": [
    "X.columns"
   ]
  },
  {
   "cell_type": "code",
   "execution_count": 143,
   "id": "ac5b9b4e",
   "metadata": {},
   "outputs": [],
   "source": [
    "    x[0] = 1\n",
    "    x[1] = 2\n",
    "    x[2] = 3\n",
    "    x[3] = 4\n",
    "    x[4] = 5\n",
    "    x[5] = 6\n",
    "    x[6] = 7\n",
    "    x[7] = 8\n",
    "    x[9] = 9\n",
    "    x[10] = 10\n",
    "    x[11] = 11"
   ]
  },
  {
   "cell_type": "code",
   "execution_count": null,
   "id": "1ce95e07",
   "metadata": {},
   "outputs": [],
   "source": []
  },
  {
   "cell_type": "code",
   "execution_count": 144,
   "id": "f5d14908",
   "metadata": {},
   "outputs": [],
   "source": [
    "def predict_price(Bed,Bath,Area,location):    \n",
    "    loc_index = np.where(X.columns==location)[0][0]\n",
    "\n",
    "    x = np.zeros(len(X.columns))\n",
    "    x[0] = Bed\n",
    "    x[1] = Bath\n",
    "    x[2] = Area\n",
    "    \n",
    "    if loc_index >= 0:\n",
    "        x[loc_index] = 1\n",
    "\n",
    "    return model.predict([x])[0]"
   ]
  },
  {
   "cell_type": "code",
   "execution_count": 145,
   "id": "7bdff16c",
   "metadata": {},
   "outputs": [
    {
     "data": {
      "text/plain": [
       "array([8438588.81317198])"
      ]
     },
     "execution_count": 145,
     "metadata": {},
     "output_type": "execute_result"
    }
   ],
   "source": [
    "model.predict([[3,3,1450,0,0,0,0,0,0,1,0,0]])"
   ]
  },
  {
   "cell_type": "code",
   "execution_count": 146,
   "id": "e91679df",
   "metadata": {},
   "outputs": [],
   "source": [
    "import pickle\n",
    "with open('Price_Prediction.pickle','wb') as f:\n",
    "    pickle.dump(model,f)"
   ]
  },
  {
   "cell_type": "code",
   "execution_count": 147,
   "id": "a2e28b2f",
   "metadata": {},
   "outputs": [
    {
     "data": {
      "text/plain": [
       "array([7687971.96859818])"
      ]
     },
     "execution_count": 147,
     "metadata": {},
     "output_type": "execute_result"
    }
   ],
   "source": [
    "model.predict([[2,2,1200,0,0,0,0,0,0,0,0,1]])\n",
    "\n"
   ]
  },
  {
   "cell_type": "code",
   "execution_count": null,
   "id": "c03e4491",
   "metadata": {},
   "outputs": [],
   "source": []
  },
  {
   "cell_type": "code",
   "execution_count": null,
   "id": "78082481",
   "metadata": {},
   "outputs": [],
   "source": []
  },
  {
   "cell_type": "code",
   "execution_count": 148,
   "id": "ddd7d3b7",
   "metadata": {},
   "outputs": [
    {
     "data": {
      "text/plain": [
       "array([7599986.65689686])"
      ]
     },
     "execution_count": 148,
     "metadata": {},
     "output_type": "execute_result"
    }
   ],
   "source": [
    "model.predict([[2,2,1400,0,0,1,0,0,0,0,0,0]])"
   ]
  },
  {
   "cell_type": "code",
   "execution_count": 149,
   "id": "8a0e640c",
   "metadata": {},
   "outputs": [
    {
     "data": {
      "text/plain": [
       "array([7599986.65689686])"
      ]
     },
     "execution_count": 149,
     "metadata": {},
     "output_type": "execute_result"
    }
   ],
   "source": [
    "model.predict([[2,2,1400,0,0,1,0,0,0,0,0,0]])"
   ]
  },
  {
   "cell_type": "code",
   "execution_count": 150,
   "id": "e70e46e9",
   "metadata": {},
   "outputs": [],
   "source": [
    "from sklearn.model_selection import train_test_split\n",
    "X_train, X_test, y_train, y_test = train_test_split(X,y,test_size=0.2,random_state=10)"
   ]
  },
  {
   "cell_type": "code",
   "execution_count": 151,
   "id": "1cefb68f",
   "metadata": {},
   "outputs": [
    {
     "data": {
      "text/plain": [
       "0.3550915945858002"
      ]
     },
     "execution_count": 151,
     "metadata": {},
     "output_type": "execute_result"
    }
   ],
   "source": [
    "from sklearn.linear_model import LinearRegression\n",
    "lr_clf = LinearRegression()\n",
    "lr_clf.fit(X_train,y_train)\n",
    "lr_clf.score(X_test,y_test)"
   ]
  },
  {
   "cell_type": "code",
   "execution_count": 152,
   "id": "d00292e6",
   "metadata": {},
   "outputs": [],
   "source": [
    "y_pred = lr_clf.predict(X_test)"
   ]
  },
  {
   "cell_type": "code",
   "execution_count": 153,
   "id": "df01809f",
   "metadata": {},
   "outputs": [],
   "source": [
    "df = pd.DataFrame({'Actual': y_test, 'Predicted': y_pred})\n",
    "df1 = df.head(25)"
   ]
  },
  {
   "cell_type": "code",
   "execution_count": 154,
   "id": "08069044",
   "metadata": {},
   "outputs": [
    {
     "ename": "NameError",
     "evalue": "name 'plt' is not defined",
     "output_type": "error",
     "traceback": [
      "\u001b[1;31m---------------------------------------------------------------------------\u001b[0m",
      "\u001b[1;31mNameError\u001b[0m                                 Traceback (most recent call last)",
      "\u001b[1;32m<ipython-input-154-34ec2e9d83b5>\u001b[0m in \u001b[0;36m<module>\u001b[1;34m\u001b[0m\n\u001b[0;32m      1\u001b[0m \u001b[0mdf1\u001b[0m\u001b[1;33m.\u001b[0m\u001b[0mplot\u001b[0m\u001b[1;33m(\u001b[0m\u001b[0mkind\u001b[0m\u001b[1;33m=\u001b[0m\u001b[1;34m'bar'\u001b[0m\u001b[1;33m,\u001b[0m\u001b[0mfigsize\u001b[0m\u001b[1;33m=\u001b[0m\u001b[1;33m(\u001b[0m\u001b[1;36m10\u001b[0m\u001b[1;33m,\u001b[0m\u001b[1;36m8\u001b[0m\u001b[1;33m)\u001b[0m\u001b[1;33m)\u001b[0m\u001b[1;33m\u001b[0m\u001b[1;33m\u001b[0m\u001b[0m\n\u001b[1;32m----> 2\u001b[1;33m \u001b[0mplt\u001b[0m\u001b[1;33m.\u001b[0m\u001b[0mgrid\u001b[0m\u001b[1;33m(\u001b[0m\u001b[0mwhich\u001b[0m\u001b[1;33m=\u001b[0m\u001b[1;34m'major'\u001b[0m\u001b[1;33m,\u001b[0m \u001b[0mlinestyle\u001b[0m\u001b[1;33m=\u001b[0m\u001b[1;34m'-'\u001b[0m\u001b[1;33m,\u001b[0m \u001b[0mlinewidth\u001b[0m\u001b[1;33m=\u001b[0m\u001b[1;34m'0.5'\u001b[0m\u001b[1;33m,\u001b[0m \u001b[0mcolor\u001b[0m\u001b[1;33m=\u001b[0m\u001b[1;34m'green'\u001b[0m\u001b[1;33m)\u001b[0m\u001b[1;33m\u001b[0m\u001b[1;33m\u001b[0m\u001b[0m\n\u001b[0m\u001b[0;32m      3\u001b[0m \u001b[0mplt\u001b[0m\u001b[1;33m.\u001b[0m\u001b[0mgrid\u001b[0m\u001b[1;33m(\u001b[0m\u001b[0mwhich\u001b[0m\u001b[1;33m=\u001b[0m\u001b[1;34m'minor'\u001b[0m\u001b[1;33m,\u001b[0m \u001b[0mlinestyle\u001b[0m\u001b[1;33m=\u001b[0m\u001b[1;34m':'\u001b[0m\u001b[1;33m,\u001b[0m \u001b[0mlinewidth\u001b[0m\u001b[1;33m=\u001b[0m\u001b[1;34m'0.5'\u001b[0m\u001b[1;33m,\u001b[0m \u001b[0mcolor\u001b[0m\u001b[1;33m=\u001b[0m\u001b[1;34m'black'\u001b[0m\u001b[1;33m)\u001b[0m\u001b[1;33m\u001b[0m\u001b[1;33m\u001b[0m\u001b[0m\n\u001b[0;32m      4\u001b[0m \u001b[0mplt\u001b[0m\u001b[1;33m.\u001b[0m\u001b[0mshow\u001b[0m\u001b[1;33m(\u001b[0m\u001b[1;33m)\u001b[0m\u001b[1;33m\u001b[0m\u001b[1;33m\u001b[0m\u001b[0m\n",
      "\u001b[1;31mNameError\u001b[0m: name 'plt' is not defined"
     ]
    },
    {
     "data": {
      "image/png": "[encoded data removed]",
      "text/plain": [
       "<Figure size 720x576 with 1 Axes>"
      ]
     },
     "metadata": {
      "needs_background": "light"
     },
     "output_type": "display_data"
    }
   ],
   "source": [
    "df1.plot(kind='bar',figsize=(10,8))\n",
    "plt.grid(which='major', linestyle='-', linewidth='0.5', color='green')\n",
    "plt.grid(which='minor', linestyle=':', linewidth='0.5', color='black')\n",
    "plt.show()"
   ]
  },
  {
   "cell_type": "code",
   "execution_count": 155,
   "id": "fb4ba2d1",
   "metadata": {},
   "outputs": [
    {
     "data": {
      "text/plain": [
       "array([7599986.65689686])"
      ]
     },
     "execution_count": 155,
     "metadata": {},
     "output_type": "execute_result"
    }
   ],
   "source": [
    "model.predict([[2,2,1400,0,0,1,0,0,0,0,0,0]])"
   ]
  },
  {
   "cell_type": "code",
   "execution_count": null,
   "id": "0849c008",
   "metadata": {},
   "outputs": [],
   "source": []
  }
 ],
 "metadata": {
  "kernelspec": {
   "display_name": "Python 3",
   "language": "python",
   "name": "python3"
  },
  "language_info": {
   "codemirror_mode": {
    "name": "ipython",
    "version": 3
   },
   "file_extension": ".py",
   "mimetype": "text/x-python",
   "name": "python",
   "nbconvert_exporter": "python",
   "pygments_lexer": "ipython3",
   "version": "3.8.8"
  }
 },
 "nbformat": 4,
 "nbformat_minor": 5
}
